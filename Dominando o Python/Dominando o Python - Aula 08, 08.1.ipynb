{
 "cells": [
  {
   "cell_type": "markdown",
   "metadata": {},
   "source": [
    "# Trabalhando com Dicionários"
   ]
  },
  {
   "cell_type": "code",
   "execution_count": 1,
   "metadata": {},
   "outputs": [
    {
     "data": {
      "text/plain": [
       "dict"
      ]
     },
     "execution_count": 1,
     "metadata": {},
     "output_type": "execute_result"
    }
   ],
   "source": [
    "# Criando um Dicionário as {} são as principais diferenças\n",
    "dic = {}\n",
    "type(dic)"
   ]
  },
  {
   "cell_type": "code",
   "execution_count": 2,
   "metadata": {},
   "outputs": [
    {
     "data": {
      "text/plain": [
       "{'Jose': 80,\n",
       " 'Marcela': 30,\n",
       " 'Maria': 55,\n",
       " 'Rodrigo': 30,\n",
       " 'Strings': ['MinerandoDados.com.br', 'Data Science', 'Machine Learning'],\n",
       " 'Valores': [1, 3.5, 400, 5, 6],\n",
       " 'pesos': {'Jose': 87, 'Maria': 70, 'Rodrigo': 68}}"
      ]
     },
     "execution_count": 2,
     "metadata": {},
     "output_type": "execute_result"
    }
   ],
   "source": [
    "# Os dicionários trabalham com o conceito de \"chave:valor\"\n",
    "# Dicionários podem conter outros dicionários e listas\n",
    "pessoas = {'Rodrigo':30, 'Marcela':30, 'Maria':55, 'Jose':80, \n",
    "           'pesos':{'Rodrigo':68,'Maria':70,'Jose':87},\n",
    "           'Valores':[1,3.5,400,5,6], \n",
    "           'Strings': ['MinerandoDados.com.br','Data Science','Machine Learning']\n",
    "           }\n",
    "pessoas"
   ]
  },
  {
   "cell_type": "code",
   "execution_count": 3,
   "metadata": {},
   "outputs": [
    {
     "data": {
      "text/plain": [
       "80"
      ]
     },
     "execution_count": 3,
     "metadata": {},
     "output_type": "execute_result"
    }
   ],
   "source": [
    "# Acessando os valores de um dicionario a partir das chaves\n",
    "pessoas['Jose']"
   ]
  },
  {
   "cell_type": "code",
   "execution_count": 4,
   "metadata": {},
   "outputs": [
    {
     "ename": "KeyError",
     "evalue": "'Luiz'",
     "output_type": "error",
     "traceback": [
      "\u001b[0;31m---------------------------------------------------------------------------\u001b[0m",
      "\u001b[0;31mKeyError\u001b[0m                                  Traceback (most recent call last)",
      "\u001b[0;32m<ipython-input-4-746c7d5ccfd7>\u001b[0m in \u001b[0;36m<module>\u001b[0;34m()\u001b[0m\n\u001b[1;32m      1\u001b[0m \u001b[0;31m# Chave não encontrada\u001b[0m\u001b[0;34m\u001b[0m\u001b[0;34m\u001b[0m\u001b[0m\n\u001b[0;32m----> 2\u001b[0;31m \u001b[0mpessoas\u001b[0m\u001b[0;34m[\u001b[0m\u001b[0;34m'Luiz'\u001b[0m\u001b[0;34m]\u001b[0m\u001b[0;34m\u001b[0m\u001b[0m\n\u001b[0m",
      "\u001b[0;31mKeyError\u001b[0m: 'Luiz'"
     ]
    }
   ],
   "source": [
    "# Chave não encontrada\n",
    "pessoas['Luiz']"
   ]
  },
  {
   "cell_type": "code",
   "execution_count": 5,
   "metadata": {},
   "outputs": [
    {
     "data": {
      "text/plain": [
       "68"
      ]
     },
     "execution_count": 5,
     "metadata": {},
     "output_type": "execute_result"
    }
   ],
   "source": [
    "# Acessando dicionario aninhado\n",
    "pessoas['pesos']['Rodrigo']"
   ]
  },
  {
   "cell_type": "code",
   "execution_count": 8,
   "metadata": {},
   "outputs": [
    {
     "data": {
      "text/plain": [
       "'Machine Learning'"
      ]
     },
     "execution_count": 8,
     "metadata": {},
     "output_type": "execute_result"
    }
   ],
   "source": [
    "# Acessando lista dentro do dicionário\n",
    "pessoas['Strings'][2]"
   ]
  },
  {
   "cell_type": "markdown",
   "metadata": {},
   "source": [
    "# Atualizando Dicionários"
   ]
  },
  {
   "cell_type": "code",
   "execution_count": 12,
   "metadata": {},
   "outputs": [
    {
     "data": {
      "text/plain": [
       "{'Jose': 80,\n",
       " 'Luiz': 45,\n",
       " 'Marcela': 30,\n",
       " 'Maria': 55,\n",
       " 'Rodrigo': 31,\n",
       " 'Strings': ['MinerandoDados.com.br', 'Data Science', 'Machine Learning'],\n",
       " 'Valores': [1, 3.5, 400, 5, 6],\n",
       " 'pesos': {'Jose': 87, 'Maria': 70, 'Rodrigo': 68}}"
      ]
     },
     "execution_count": 12,
     "metadata": {},
     "output_type": "execute_result"
    }
   ],
   "source": [
    "pessoas"
   ]
  },
  {
   "cell_type": "code",
   "execution_count": 10,
   "metadata": {},
   "outputs": [
    {
     "data": {
      "text/plain": [
       "31"
      ]
     },
     "execution_count": 10,
     "metadata": {},
     "output_type": "execute_result"
    }
   ],
   "source": [
    "# Atualizando o valor de uma chave\n",
    "pessoas['Rodrigo']= 31\n",
    "pessoas['Rodrigo']"
   ]
  },
  {
   "cell_type": "code",
   "execution_count": 11,
   "metadata": {},
   "outputs": [
    {
     "data": {
      "text/plain": [
       "45"
      ]
     },
     "execution_count": 11,
     "metadata": {},
     "output_type": "execute_result"
    }
   ],
   "source": [
    "# Adicionando chaves e valores aos dicionários\n",
    "pessoas['Luiz'] = 45\n",
    "pessoas['Luiz']"
   ]
  },
  {
   "cell_type": "code",
   "execution_count": 13,
   "metadata": {},
   "outputs": [
    {
     "data": {
      "text/plain": [
       "{'Jose': 80,\n",
       " 'Marcela': 30,\n",
       " 'Maria': 55,\n",
       " 'Rodrigo': 31,\n",
       " 'Strings': ['MinerandoDados.com.br', 'Data Science', 'Machine Learning'],\n",
       " 'Valores': [1, 3.5, 400, 5, 6],\n",
       " 'pesos': {'Jose': 87, 'Maria': 70, 'Rodrigo': 68}}"
      ]
     },
     "execution_count": 13,
     "metadata": {},
     "output_type": "execute_result"
    }
   ],
   "source": [
    "# Apaga elementos do dicionário\n",
    "del pessoas['Luiz']\n",
    "pessoas"
   ]
  },
  {
   "cell_type": "markdown",
   "metadata": {},
   "source": [
    "# Métodos disponíveis"
   ]
  },
  {
   "cell_type": "code",
   "execution_count": null,
   "metadata": {
    "collapsed": true
   },
   "outputs": [],
   "source": [
    "# Métodos disponiveis, pressione . e a tecla tab\n",
    "pessoas."
   ]
  },
  {
   "cell_type": "code",
   "execution_count": 15,
   "metadata": {},
   "outputs": [
    {
     "data": {
      "text/plain": [
       "dict_keys(['Rodrigo', 'Marcela', 'Maria', 'Jose', 'pesos', 'Valores', 'Strings'])"
      ]
     },
     "execution_count": 15,
     "metadata": {},
     "output_type": "execute_result"
    }
   ],
   "source": [
    "# Retorna todas as Chaves do Dicionário\n",
    "pessoas.keys()"
   ]
  },
  {
   "cell_type": "code",
   "execution_count": 16,
   "metadata": {},
   "outputs": [
    {
     "data": {
      "text/plain": [
       "dict_values([31, 30, 55, 80, {'Rodrigo': 68, 'Maria': 70, 'Jose': 87}, [1, 3.5, 400, 5, 6], ['MinerandoDados.com.br', 'Data Science', 'Machine Learning']])"
      ]
     },
     "execution_count": 16,
     "metadata": {},
     "output_type": "execute_result"
    }
   ],
   "source": [
    "# Retorna os Valores de todas as chaves\n",
    "pessoas.values()"
   ]
  },
  {
   "cell_type": "code",
   "execution_count": 17,
   "metadata": {
    "collapsed": true
   },
   "outputs": [],
   "source": [
    "# Criando um segundo dicionario\n",
    "pessoas2 = {'Norma':69, 'Eliana':61}"
   ]
  },
  {
   "cell_type": "code",
   "execution_count": 18,
   "metadata": {},
   "outputs": [
    {
     "data": {
      "text/plain": [
       "{'Eliana': 61, 'Norma': 69}"
      ]
     },
     "execution_count": 18,
     "metadata": {},
     "output_type": "execute_result"
    }
   ],
   "source": [
    "pessoas2"
   ]
  },
  {
   "cell_type": "code",
   "execution_count": 19,
   "metadata": {},
   "outputs": [
    {
     "data": {
      "text/plain": [
       "{'Eliana': 61,\n",
       " 'Jose': 80,\n",
       " 'Marcela': 30,\n",
       " 'Maria': 55,\n",
       " 'Norma': 69,\n",
       " 'Rodrigo': 31,\n",
       " 'Strings': ['MinerandoDados.com.br', 'Data Science', 'Machine Learning'],\n",
       " 'Valores': [1, 3.5, 400, 5, 6],\n",
       " 'pesos': {'Jose': 87, 'Maria': 70, 'Rodrigo': 68}}"
      ]
     },
     "execution_count": 19,
     "metadata": {},
     "output_type": "execute_result"
    }
   ],
   "source": [
    "# Atualiza o primeiro dicionário adicionando elementos do segundo\n",
    "pessoas.update(pessoas2)\n",
    "pessoas"
   ]
  },
  {
   "cell_type": "code",
   "execution_count": 21,
   "metadata": {},
   "outputs": [
    {
     "data": {
      "text/plain": [
       "31"
      ]
     },
     "execution_count": 21,
     "metadata": {},
     "output_type": "execute_result"
    }
   ],
   "source": [
    "# Retorna o valor da chave caso ela exista, senão retorna o valor do parâmetro.\n",
    "pessoas.get('Rodrigo','Não_Existe')"
   ]
  },
  {
   "cell_type": "code",
   "execution_count": 22,
   "metadata": {},
   "outputs": [
    {
     "data": {
      "text/plain": [
       "30"
      ]
     },
     "execution_count": 22,
     "metadata": {},
     "output_type": "execute_result"
    }
   ],
   "source": [
    "# Retorna o valor da chave caso ela exista, senão inseri a chave e o valor no dicionário.\n",
    "pessoas.setdefault('Marcos',30)"
   ]
  },
  {
   "cell_type": "code",
   "execution_count": 23,
   "metadata": {},
   "outputs": [
    {
     "data": {
      "text/plain": [
       "{'Eliana': 61,\n",
       " 'Jose': 80,\n",
       " 'Marcela': 30,\n",
       " 'Marcos': 30,\n",
       " 'Maria': 55,\n",
       " 'Norma': 69,\n",
       " 'Rodrigo': 31,\n",
       " 'Strings': ['MinerandoDados.com.br', 'Data Science', 'Machine Learning'],\n",
       " 'Valores': [1, 3.5, 400, 5, 6],\n",
       " 'pesos': {'Jose': 87, 'Maria': 70, 'Rodrigo': 68}}"
      ]
     },
     "execution_count": 23,
     "metadata": {},
     "output_type": "execute_result"
    }
   ],
   "source": [
    "pessoas"
   ]
  },
  {
   "cell_type": "code",
   "execution_count": 28,
   "metadata": {},
   "outputs": [
    {
     "data": {
      "text/plain": [
       "'Essa chave já foi removida'"
      ]
     },
     "execution_count": 28,
     "metadata": {},
     "output_type": "execute_result"
    }
   ],
   "source": [
    "# Retorna o valor da chave e removi esta. Se não for encontrada retorna o valor passado por parâmetro.\n",
    "pessoas.pop('Rodrigo','Essa chave já foi removida')"
   ]
  },
  {
   "cell_type": "code",
   "execution_count": 27,
   "metadata": {},
   "outputs": [
    {
     "data": {
      "text/plain": [
       "{'Eliana': 61,\n",
       " 'Jose': 80,\n",
       " 'Marcela': 30,\n",
       " 'Marcos': 30,\n",
       " 'Maria': 55,\n",
       " 'Norma': 69,\n",
       " 'Strings': ['MinerandoDados.com.br', 'Data Science', 'Machine Learning'],\n",
       " 'Valores': [1, 3.5, 400, 5, 6],\n",
       " 'pesos': {'Jose': 87, 'Maria': 70, 'Rodrigo': 68}}"
      ]
     },
     "execution_count": 27,
     "metadata": {},
     "output_type": "execute_result"
    }
   ],
   "source": [
    "# Visualize o dicionario.\n",
    "pessoas"
   ]
  },
  {
   "cell_type": "code",
   "execution_count": 29,
   "metadata": {
    "collapsed": true
   },
   "outputs": [],
   "source": [
    "# Apaga o conteúdo do dicionário\n",
    "pessoas.clear()"
   ]
  },
  {
   "cell_type": "code",
   "execution_count": 30,
   "metadata": {},
   "outputs": [
    {
     "data": {
      "text/plain": [
       "{}"
      ]
     },
     "execution_count": 30,
     "metadata": {},
     "output_type": "execute_result"
    }
   ],
   "source": [
    "pessoas"
   ]
  }
 ],
 "metadata": {
  "kernelspec": {
   "display_name": "Python 3",
   "language": "python",
   "name": "python3"
  },
  "language_info": {
   "codemirror_mode": {
    "name": "ipython",
    "version": 3
   },
   "file_extension": ".py",
   "mimetype": "text/x-python",
   "name": "python",
   "nbconvert_exporter": "python",
   "pygments_lexer": "ipython3",
   "version": "3.6.4"
  }
 },
 "nbformat": 4,
 "nbformat_minor": 2
}
