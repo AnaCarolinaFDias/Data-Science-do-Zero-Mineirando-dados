{
 "cells": [
  {
   "cell_type": "markdown",
   "metadata": {},
   "source": [
    "# Trabalhando com Loops While"
   ]
  },
  {
   "cell_type": "code",
   "execution_count": null,
   "metadata": {},
   "outputs": [],
   "source": [
    "# Os loops While utilizam a seguinte sintaxe\n",
    "# Perceba que a condição é o primeiro passo a ser executado\n",
    "# Se a condição for verdadeira executa o loop até esta ser falsa\n",
    "\n",
    "while condicao:\n",
    "    <faca algo>"
   ]
  },
  {
   "cell_type": "code",
   "execution_count": null,
   "metadata": {},
   "outputs": [],
   "source": [
    "# Exemplo de utilização do loop While\n",
    "i = 0\n",
    "while i < 10:\n",
    "    print (i)\n",
    "    i = i + 1\n",
    "\n",
    "print (\"\\n\\n Continuando o programa...\")"
   ]
  },
  {
   "cell_type": "code",
   "execution_count": null,
   "metadata": {},
   "outputs": [],
   "source": [
    "# Condição inicial é falsa!!\n",
    "i = 5\n",
    "while i < 10:\n",
    "    print (i)\n",
    "    i = i + 1\n",
    "\n",
    "print (\"\\n\\n Continuando o programa...\")"
   ]
  },
  {
   "cell_type": "markdown",
   "metadata": {},
   "source": [
    "# While com a instrução ELSE"
   ]
  },
  {
   "cell_type": "code",
   "execution_count": null,
   "metadata": {},
   "outputs": [],
   "source": [
    "# A instrução ELSE é executada quando a condição do while é falsa\n",
    "i = 0\n",
    "while i < 10:\n",
    "    print (i)\n",
    "    i = i + 1\n",
    "else:\n",
    "    print(\"Numero é maior ou igual a 10\")\n",
    "\n",
    "print (\"\\n\\n Continuando o programa...\")"
   ]
  },
  {
   "cell_type": "markdown",
   "metadata": {},
   "source": [
    "# While, Break,Continue"
   ]
  },
  {
   "cell_type": "code",
   "execution_count": null,
   "metadata": {},
   "outputs": [],
   "source": [
    "# While com a instrução Break\n",
    "i = 0\n",
    "while i < 10:\n",
    "    if i == 5:\n",
    "        break\n",
    "    print (i)\n",
    "    i = i + 1\n",
    "\n",
    "print (\"\\n\\n Continuando o programa...\")"
   ]
  },
  {
   "cell_type": "markdown",
   "metadata": {},
   "source": [
    "# Loops Infinitos!!"
   ]
  },
  {
   "cell_type": "code",
   "execution_count": null,
   "metadata": {},
   "outputs": [],
   "source": [
    "# Cuidado!!\n",
    "# Loops Infinitos: Condição é sempre verdadeira!\n",
    "i = 0\n",
    "while i < 10:\n",
    "    print (i)"
   ]
  }
 ],
 "metadata": {
  "kernelspec": {
   "display_name": "Python 3",
   "language": "python",
   "name": "python3"
  },
  "language_info": {
   "codemirror_mode": {
    "name": "ipython",
    "version": 3
   },
   "file_extension": ".py",
   "mimetype": "text/x-python",
   "name": "python",
   "nbconvert_exporter": "python",
   "pygments_lexer": "ipython3",
   "version": "3.6.4"
  }
 },
 "nbformat": 4,
 "nbformat_minor": 2
}
