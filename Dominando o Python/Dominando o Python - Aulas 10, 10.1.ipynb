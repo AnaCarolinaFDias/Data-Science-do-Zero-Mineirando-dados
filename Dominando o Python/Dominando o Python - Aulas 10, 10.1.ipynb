{
 "cells": [
  {
   "cell_type": "markdown",
   "metadata": {},
   "source": [
    "# Trabalhando com Loops FOR"
   ]
  },
  {
   "cell_type": "code",
   "execution_count": null,
   "metadata": {},
   "outputs": [],
   "source": [
    "# Os loops são usados no Python na seguinte forma (sintaxe):\n",
    "for i in coleção:\n",
    "    <execute uma ou mais ações>\n",
    "    \n",
    "# A coleção pode ser uma lista de números\n",
    "# Ou ainda uma lista de Strings, ou um arquivo, uma tupla, um dicionário e assim por diante."
   ]
  },
  {
   "cell_type": "code",
   "execution_count": null,
   "metadata": {},
   "outputs": [],
   "source": [
    "# Exemplo de loop com lista\n",
    "for i in [1,2,3,4,5]:\n",
    "    print (\"Valor: %s\" %i)\n",
    "    print (i + 2)"
   ]
  },
  {
   "cell_type": "code",
   "execution_count": null,
   "metadata": {},
   "outputs": [],
   "source": [
    "# Exemplo de loop com uma String\n",
    "for caracter in 'Minerando Dados, a casa do Cientista de Dados':\n",
    "    print (caracter)"
   ]
  },
  {
   "cell_type": "code",
   "execution_count": null,
   "metadata": {},
   "outputs": [],
   "source": [
    "# Exemplo de loop com uma lista de strings\n",
    "automoveis = ['Ferrari','Porshe','lamborghini']\n",
    "for carro in automoveis:\n",
    "    print (carro)"
   ]
  },
  {
   "cell_type": "code",
   "execution_count": null,
   "metadata": {},
   "outputs": [],
   "source": [
    "# Loops com Dicionários\n",
    "pessoas_idade = {'Rodrigo':30, 'Maria':25, 'Jose':65}\n",
    "for p in pessoas_idade:\n",
    "    print (p)"
   ]
  },
  {
   "cell_type": "code",
   "execution_count": null,
   "metadata": {},
   "outputs": [],
   "source": [
    "# Loops com estruturas condicionais\n",
    "# Imprimindo apenas números impares\n",
    "for i in [1,2,3,4,5,6,7,8,9,10]:\n",
    "    if i % 2 > 0:\n",
    "        print (i)"
   ]
  },
  {
   "cell_type": "code",
   "execution_count": null,
   "metadata": {},
   "outputs": [],
   "source": [
    "# Usando a função zip para concatenar listas\n",
    "indice = [10,15,20]\n",
    "linhas = ['Ola mundo','Python é uma linguagem sensacional','Minerando Dados a sua comunidade de Data Science']\n",
    "for i,l in zip(indice,linhas):\n",
    "    print (i,l)"
   ]
  },
  {
   "cell_type": "markdown",
   "metadata": {},
   "source": [
    "# Loops Aninhados"
   ]
  },
  {
   "cell_type": "code",
   "execution_count": null,
   "metadata": {},
   "outputs": [],
   "source": [
    "# A cada execução do Primeiro loop, todo o segundo loop será executado\n",
    "for i in ['1a Fase','2a Fase','3a Fase']:\n",
    "    print (i)\n",
    "    for y in ['Maça','Bananas','Uvas']:\n",
    "        print (y)"
   ]
  },
  {
   "cell_type": "markdown",
   "metadata": {},
   "source": [
    "# Instrução Break"
   ]
  },
  {
   "cell_type": "code",
   "execution_count": null,
   "metadata": {},
   "outputs": [],
   "source": [
    "# A instrução break é usada para encerrar um loop\n",
    "for letra in 'Python':\n",
    "   if letra == 'o':\n",
    "    faça_algo\n",
    "      break #loop interrompido!!\n",
    "   print ('Letra :', letra)\n",
    "\n",
    "print (\"\\n\\nContinuando o programa...\")"
   ]
  },
  {
   "cell_type": "markdown",
   "metadata": {},
   "source": [
    "# Instrução Continue"
   ]
  },
  {
   "cell_type": "code",
   "execution_count": null,
   "metadata": {},
   "outputs": [],
   "source": [
    "# A instrução continue checa a condição inicial do loop e continua sua execução\n",
    "for letra in 'Python':\n",
    "   if letra == 'y':\n",
    "      continue\n",
    "   print ('Letra :', letra)"
   ]
  }
 ],
 "metadata": {
  "kernelspec": {
   "display_name": "Python 3",
   "language": "python",
   "name": "python3"
  },
  "language_info": {
   "codemirror_mode": {
    "name": "ipython",
    "version": 3
   },
   "file_extension": ".py",
   "mimetype": "text/x-python",
   "name": "python",
   "nbconvert_exporter": "python",
   "pygments_lexer": "ipython3",
   "version": "3.6.4"
  }
 },
 "nbformat": 4,
 "nbformat_minor": 2
}
