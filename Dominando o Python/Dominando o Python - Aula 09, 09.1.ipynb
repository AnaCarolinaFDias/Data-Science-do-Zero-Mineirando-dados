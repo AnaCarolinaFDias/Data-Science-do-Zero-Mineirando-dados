{
 "cells": [
  {
   "cell_type": "markdown",
   "metadata": {},
   "source": [
    "# Trabalhando com Estruturas Condicionais"
   ]
  },
  {
   "cell_type": "code",
   "execution_count": 1,
   "metadata": {},
   "outputs": [
    {
     "data": {
      "text/plain": [
       "True"
      ]
     },
     "execution_count": 1,
     "metadata": {},
     "output_type": "execute_result"
    }
   ],
   "source": [
    "# Retorno boleano\n",
    "10 > 1"
   ]
  },
  {
   "cell_type": "code",
   "execution_count": 2,
   "metadata": {},
   "outputs": [
    {
     "data": {
      "text/plain": [
       "False"
      ]
     },
     "execution_count": 2,
     "metadata": {},
     "output_type": "execute_result"
    }
   ],
   "source": [
    "# Retorno boleano\n",
    "5 <= 4"
   ]
  },
  {
   "cell_type": "code",
   "execution_count": 4,
   "metadata": {},
   "outputs": [
    {
     "name": "stdout",
     "output_type": "stream",
     "text": [
      "Verdadeiro\n",
      "3\n",
      "Ultimo comando\n"
     ]
    }
   ],
   "source": [
    "# Se a instrução for verdadeira, executa as instruçãos seguintes.\n",
    "if 10 > 1:\n",
    "    print ('Verdadeiro')\n",
    "    print (1 + 2)\n",
    "    print (\"Ultimo comando\")"
   ]
  },
  {
   "cell_type": "code",
   "execution_count": 6,
   "metadata": {},
   "outputs": [
    {
     "name": "stdout",
     "output_type": "stream",
     "text": [
      "Verdadeiro\n"
     ]
    }
   ],
   "source": [
    "# Cuidado com identação !!\n",
    "if 10 > 1:\n",
    "    print (\"Verdadeiro\")"
   ]
  },
  {
   "cell_type": "markdown",
   "metadata": {},
   "source": [
    "# Instrução ELSE"
   ]
  },
  {
   "cell_type": "code",
   "execution_count": null,
   "metadata": {
    "collapsed": true
   },
   "outputs": [],
   "source": [
    "# A instrução ELSE é executada caso a instrução IF for FALSA"
   ]
  },
  {
   "cell_type": "code",
   "execution_count": 7,
   "metadata": {},
   "outputs": [
    {
     "name": "stdout",
     "output_type": "stream",
     "text": [
      "Falso\n"
     ]
    }
   ],
   "source": [
    "# Instrução else\n",
    "if 10 > 20:\n",
    "   print (\"Verdadeiro\")\n",
    "else:\n",
    "   print (\"Falso\")"
   ]
  },
  {
   "cell_type": "code",
   "execution_count": null,
   "metadata": {
    "collapsed": true
   },
   "outputs": [],
   "source": [
    "# Quando usamos operador OR basta UMA condição ser verdadeira para toda condição ser verdadeira"
   ]
  },
  {
   "cell_type": "code",
   "execution_count": 8,
   "metadata": {},
   "outputs": [
    {
     "name": "stdout",
     "output_type": "stream",
     "text": [
      "Olá Rodrigo, seja bem vindo!\n"
     ]
    }
   ],
   "source": [
    "# Testando o Operador Lógico OR\n",
    "Nome = 'Rodrigo'\n",
    "\n",
    "if 10 > 100 or Nome == 'Rodrigo':\n",
    "    print (\"Olá Rodrigo, seja bem vindo!\")\n",
    "else:\n",
    "    print (\"Você Não é o Rodrigo\")"
   ]
  },
  {
   "cell_type": "code",
   "execution_count": 9,
   "metadata": {},
   "outputs": [
    {
     "name": "stdout",
     "output_type": "stream",
     "text": [
      "Você Não é o Rodrigo\n"
     ]
    }
   ],
   "source": [
    "# Testando o Operador AND. (As duas condições devem ser verdadeiras)\n",
    "if 10 > 100 and Nome == 'Rodrigo':\n",
    "    print (\"Olá Rodrigo, seja bem vindo!\")\n",
    "else:\n",
    "    print (\"Você Não é o Rodrigo\")"
   ]
  },
  {
   "cell_type": "markdown",
   "metadata": {},
   "source": [
    "# Entendendo a instrução ELIF"
   ]
  },
  {
   "cell_type": "code",
   "execution_count": 18,
   "metadata": {
    "collapsed": true
   },
   "outputs": [],
   "source": [
    "# A instrução ELIF é acionada caso a instrução IF for falsa!\n",
    "# A instrução ELIF é uma instrução do tipo SENão Se\n",
    "valor = 40"
   ]
  },
  {
   "cell_type": "code",
   "execution_count": 19,
   "metadata": {},
   "outputs": [
    {
     "name": "stdout",
     "output_type": "stream",
     "text": [
      "Operação inválida, valores devem ser maiores que 50.\n"
     ]
    }
   ],
   "source": [
    "# Entendendo a instrução Elif.\n",
    "if valor > 100:\n",
    "   print (\"OK, Valor Maior que 100! \")\n",
    "elif valor > 50:\n",
    "   print (\"Ok, Valor é maior que 50!\")\n",
    "elif valor > 40:\n",
    "    print (\"outra mensagem\")\n",
    "elif valor \n",
    "else:\n",
    "    print (\"Operação inválida, valores devem ser maiores que 50.\")"
   ]
  },
  {
   "cell_type": "markdown",
   "metadata": {},
   "source": [
    "# Instruções IF aninhadas"
   ]
  },
  {
   "cell_type": "code",
   "execution_count": 24,
   "metadata": {
    "collapsed": true
   },
   "outputs": [],
   "source": [
    "usuario = 'Felipe'\n",
    "senha = 'abc'"
   ]
  },
  {
   "cell_type": "code",
   "execution_count": 25,
   "metadata": {},
   "outputs": [
    {
     "name": "stdout",
     "output_type": "stream",
     "text": [
      "Nome de Usuário inválido!!\n"
     ]
    }
   ],
   "source": [
    "if usuario == 'Rodrigo':\n",
    "    if senha == 'data_science':\n",
    "        print (\"Ok, tudo certo\")\n",
    "    else:\n",
    "        print (\"Nome de usuário correto, você esqueceu a senha?\")\n",
    "    if \n",
    "else:\n",
    "    print (\"Nome de Usuário inválido!!\")"
   ]
  }
 ],
 "metadata": {
  "kernelspec": {
   "display_name": "Python 3",
   "language": "python",
   "name": "python3"
  },
  "language_info": {
   "codemirror_mode": {
    "name": "ipython",
    "version": 3
   },
   "file_extension": ".py",
   "mimetype": "text/x-python",
   "name": "python",
   "nbconvert_exporter": "python",
   "pygments_lexer": "ipython3",
   "version": "3.6.4"
  }
 },
 "nbformat": 4,
 "nbformat_minor": 2
}
